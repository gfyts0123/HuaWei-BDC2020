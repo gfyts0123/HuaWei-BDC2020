{
 "cells": [
  {
   "cell_type": "code",
   "execution_count": null,
   "metadata": {},
   "outputs": [],
   "source": [
    "'''\n",
    "author: 梁泽涛，叶文涛\n",
    "create time: 2020-6-27\n",
    "update time: 2020-7-25\n",
    "'''"
   ]
  },
  {
   "cell_type": "code",
   "execution_count": 1,
   "metadata": {},
   "outputs": [],
   "source": [
    "import numpy as np\n",
    "import pandas as pd\n",
    "\n",
    "import pandas_profiling\n",
    "from tqdm import tqdm\n",
    "from sklearn.metrics import mean_squared_error\n",
    "from sklearn.model_selection import KFold\n",
    "from sklearn.preprocessing import LabelEncoder\n",
    "import matplotlib.pyplot as plt\n",
    "import seaborn as sns"
   ]
  },
  {
   "cell_type": "code",
   "execution_count": 2,
   "metadata": {},
   "outputs": [
    {
     "name": "stdout",
     "output_type": "stream",
     "text": [
      "Wall time: 44.7 s\n"
     ]
    }
   ],
   "source": [
    "# 用的是 date preprocess 中初筛数据 + B榜测试集\n",
    "%time train_data = pd.read_pickle('data/clean_data1.pkl')\n",
    "train_data['timestamp'] = pd.to_datetime(train_data['timestamp'])\n",
    "# 去除没有路由的数据\n",
    "train_data = train_data[~train_data['TRANSPORT_TRACE'].isnull()].reset_index(drop = True)"
   ]
  },
  {
   "cell_type": "code",
   "execution_count": 12,
   "metadata": {},
   "outputs": [],
   "source": [
    "#构造港口的字典\n",
    "port_data=pd.read_csv('data/port.csv')\n",
    "port_data=port_data[['TRANS_NODE_NAME','LONGITUDE','LATITUDE']]\n",
    "\n",
    "port_dict={}\n",
    "for i in range(len(port_data)):\n",
    "    port_dict[port_data['TRANS_NODE_NAME'].iloc[i]]=[port_data['LONGITUDE'].iloc[i],port_data['LATITUDE'].iloc[i]]\n",
    "\n",
    "port_dict['BREMEN_GERMANY']=[8.75,53.116667]\n",
    "port_dict['JEBEL ALI']=[55.0272904,24.9857145]\n",
    "port_dict['MANZANILLO']=[-104.333333,19.05]\n",
    "port_dict['MOMBASA']=[39.85,-3.466667]\n",
    "port_dict['SHK']=[114.066667,22.516667]\n",
    "port_dict['BUENOS AIRES']=[-58.366667,-34.6]\n",
    "port_dict['HAKATA']=[130.45,33.616667]\n",
    "port_dict['HONG KONG']=[114.25,22.3]\n",
    "port_dict['INCHON']=[126.633333,37.55]\n",
    "port_dict['KAMPALA WAREHOUSE_UGANDA']=[32.5825197,0.3475964]\n",
    "port_dict['NZLYT']=[172.7,-43.583333]\n",
    "port_dict['OSAKA']=[135.433333,34.65]\n",
    "port_dict['RIYADH CITY_SAUDI ARABIA']=[46.694788,24.697075]\n",
    "port_dict['SURABAYA']=[112.636986,-7.201896]\n",
    "port_dict['YANGON WH_MYANMAR']=[96.190748,16.85484]\n",
    "port_dict['NAIROBI']=[36.929846,-1.325971]\n",
    "port_dict['PUERTO QUETZAL']=[-90.787534,13.940552]\n",
    "port_dict['REYKJAVIK']=[-21.938826,64.149018]\n",
    "port_dict['TRIPOLI']=[13.216667,32.9]\n",
    "port_dict['VLADIVOSTOK']=[131.833333,43.166667]\n",
    "port_dict['GUAYAQUIL']=[-79.90301,-2.261349]\n",
    "port_dict['minsk']=[27.60217,53.750488]\n",
    "port_dict['HONG KONG_HONG KONG']=[114.25,22.3]\n",
    "port_dict['SAN JOSE']=[-90.833333,13.916667]\n",
    "port_dict['BELAWAN']=[98.683333,3.783333]\n",
    "port_dict['MYPKE']=[101.4086,3.005078]\n",
    "port_dict['VNCLI']=[106.6296638,10.8230989]\n",
    "port_dict['DURBAN']=[31.0218404,-29.8586804]\n",
    "port_dict['BUENAVENTURA']=[-77.0197212,3.8830471]\n",
    "port_dict['SINGAPORE']=[103.819836,1.352083]\n",
    "port_dict[\"NUKU'ALOFA\"]=[-175.204947,-21.1393418]\n",
    "port_dict['MANAUS']=[-60.0217314,-3.1190275]\n",
    "port_dict['LILONGWE']=[33.7741195,-13.9626121]\n",
    "port_dict['LAHORE']=[74.3571581,31.5546061]\n",
    "port_dict['KAMPALA']=[32.5825197,0.3475964]\n",
    "port_dict['BRMAO']=[-60.0217314,-3.1190275]\n",
    "port_dict['DAR ES SALAAM']=[39.2083284,-6.792354]\n",
    "port_dict['KIEV']=[30.5234,50.4501]\n",
    "port_dict['LUBUMBASHI']=[27.5026174,-11.6876026]\n",
    "port_dict['GABORONE']=[25.9231471,-24.6282079]\n",
    "port_dict['BFOUA']=[-1.5196603,12.3714277]\n",
    "port_dict['NAWDH']=[17.0657549,-22.5608807]\n",
    "port_dict['QINGDAO_CHINA']=[120.382609,36.067108]\n",
    "port_dict['KRIBI']=[9.9101915,2.9405941]\n",
    "port_dict['VALENCIA WAREHOUCE_SPAIN']=[-0.3762881,39.4699075]\n",
    "port_dict['SOHAR']=[56.7075141,24.3460959]\n",
    "port_dict['DAR ES SALAAM_TANZANIA']=[39.2083284,-6.792354]\n",
    "port_dict['CAUCEDO']=[-69.6308326,18.425741]\n",
    "port_dict['LAHORE']=[74.3571581,31.5546061]\n",
    "port_dict['PORT SAID EAST']=[32.3018661,31.2652893]\n",
    "port_dict['DOUALA']=[9.7678687,4.0510564]\n",
    "port_dict['KINSHASA']=[15.2662931,-4.4419311]\n",
    "port_dict['DRC']=[12.3893488,-5.9871641]\n",
    "port_dict['BLANTYRE WAREHOUSE_MALAWI']=[35.0167866,-15.7666707]\n",
    "port_dict['TOMAKOMAI']=[141.6053721,42.6343021]\n",
    "port_dict['POINTE NOIRE_CONGO']=[11.866362,-4.7691623]\n",
    "port_dict['CALLAO_PERU']=[-77.1259843,-12.0508491]\n",
    "port_dict['ALEXANDRIA']=[29.9187387,31.2000924]\n",
    "port_dict['ILASD']=[34.655314,31.804381]\n",
    "port_dict['DOHA']=[51.5310398,25.2854473]\n",
    "port_dict['MASERU']=[27.5143603,-29.3632188]\n",
    "port_dict['JEDDAH']=[39.2375507,21.2854067]\n",
    "port_dict['LAE']=[146.999905,-6.7155252]\n",
    "port_dict['CHZRH']=[8.541694,47.3768866]\n",
    "port_dict['BANGUI']=[18.5581899,4.3946735]\n",
    "port_dict['BAKU']=[49.8670924,40.4092617]\n",
    "port_dict['NIAMEY']=[2.1253854,13.5115963]\n",
    "port_dict['MVMLI']=[73.5093474,4.1754959]"
   ]
  },
  {
   "cell_type": "code",
   "execution_count": 7,
   "metadata": {},
   "outputs": [],
   "source": [
    "loadingOrderEvent_df = pd.read_csv('data/loadingOrderEvent.csv',nrows=158341)\n",
    "test_data = pd.read_csv('data/testData 0626.csv')"
   ]
  },
  {
   "cell_type": "code",
   "execution_count": 49,
   "metadata": {},
   "outputs": [],
   "source": [
    "# haversine 经纬度球面距离\n",
    "def Distance2(LonA,LatA,LonB,LatB):\n",
    "    EARTH_RADIUS = 6378.137 # 千米\n",
    "    radLatA = np.radians(LatA)\n",
    "    radLatB = np.radians(LatB)\n",
    "    a = radLatA-radLatB\n",
    "    b = np.radians(LonA)-np.radians(LonB)\n",
    "    s= 2 * np.arcsin(np.sqrt(np.power(np.sin(a / 2),2)+ np.cos(radLatA) * np.cos(radLatB)*np.power(np.sin(b / 2),2))) * EARTH_RADIUS\n",
    "    return s\n",
    "\n",
    "def label_cut_v2(df,trace):\n",
    "    #始末港口\n",
    "    start_port = trace.split('-')[0]\n",
    "    end_port = trace.split('-')[-1]\n",
    "    \n",
    "    #始末港口坐标\n",
    "    start_port_coord = port_dict[start_port]\n",
    "    end_port_coord = port_dict[end_port]\n",
    "    \n",
    "    #始末gps记录坐标\n",
    "    first_record_coord = [df.longitude.values[0],df.latitude.values[0]]\n",
    "    final_record_coord = [df.longitude.values[-1],df.latitude.values[-1]]\n",
    "    \n",
    "    # 初始记录到出发港口的距离\n",
    "    dist2start =Distance2(start_port_coord[0],start_port_coord[1],first_record_coord[0],first_record_coord[1])\n",
    "    if dist2start>50:\n",
    "        return 0\n",
    "    \n",
    "    #默认出发时间\n",
    "    start_time = df.timestamp.values[0]\n",
    "    # 选取靠近起点港口的记录\n",
    "    near_start_port_df = df[np.sqrt((df.longitude-start_port_coord[0])**2+ (df.latitude-start_port_coord[1])**2)<1]\n",
    "    \n",
    "    # 在靠近起点港口的记录中选取状态为moored的\n",
    "    start_moored_df = near_start_port_df[near_start_port_df.vesselStatus=='moored']\n",
    "    if len(start_moored_df)>0:\n",
    "        start_time_idx = start_moored_df.index[-1]\n",
    "        try:\n",
    "            start_time = near_start_port_df.timestamp[start_time_idx+1]\n",
    "        except:\n",
    "            print('运单数据异常情况,keyerror')\n",
    "            return 0\n",
    "        \n",
    "    # 选取靠近终点港口的记录\n",
    "    near_end_port_df = df[np.sqrt((df.longitude-end_port_coord[0])**2+ (df.latitude-end_port_coord[1])**2)<0.7]\n",
    "    # 如果没有靠近终点港口的记录则打标0\n",
    "    if len(near_end_port_df)<=0:\n",
    "        return 0\n",
    "    \n",
    "    min_speed_near_end = np.min(near_end_port_df.speed.values)\n",
    "    end_time = near_end_port_df[near_end_port_df.speed==min_speed_near_end].timestamp.values[-1]\n",
    "    # 在靠近终点港口的记录中选取状态为moored的\n",
    "    end_moored_df = near_end_port_df[near_end_port_df.vesselStatus=='moored']\n",
    "    if len(end_moored_df)>0:\n",
    "        end_time_idx = end_moored_df.index[0]\n",
    "        #print(near_end_port_df.index,end_time_idx-1)\n",
    "        try:\n",
    "            end_time = near_end_port_df.timestamp[end_time_idx-1]\n",
    "        except:\n",
    "            print('运单数据异常情况,keyerror')\n",
    "            return 0\n",
    "    \n",
    "    # 针对到达港口后第一个moored停留数日的情况\n",
    "    # 对于大于12小时时间间隔的记录，选择其上一个记录的时间，并与使用moored状态得出的时间比较，选择更早的时间。\n",
    "    near_end_port_df.end_diff_hour = near_end_port_df.timestamp.diff(1).dt.total_seconds()/3600\n",
    "    end_time_idx_by_diff_hour = near_end_port_df.index[(near_end_port_df.end_diff_hour>12)&\n",
    "                                                        (near_end_port_df.end_diff_hour==near_end_port_df.end_diff_hour.max())]\n",
    "    print(end_time_idx_by_diff_hour)\n",
    "    if len(end_time_idx_by_diff_hour)>0:\n",
    "        try:\n",
    "            end_time = min(end_time, near_end_port_df.timestamp[end_time_idx_by_diff_hour[0]-1])\n",
    "        except:\n",
    "            print('运单数据异常情况,keyerror')\n",
    "            return 0\n",
    "\n",
    "        \n",
    "    end_time = pd.to_datetime(end_time).tz_localize(None)\n",
    "    start_time = pd.to_datetime(start_time).tz_localize(None)\n",
    "    duration = (end_time-start_time).total_seconds()\n",
    "    #diff_hour = df.timestamp.diff(1).dt.total_seconds()/3600\n",
    "    return duration"
   ]
  },
  {
   "cell_type": "code",
   "execution_count": 48,
   "metadata": {},
   "outputs": [
    {
     "name": "stdout",
     "output_type": "stream",
     "text": [
      "Wall time: 18.1 s\n"
     ]
    }
   ],
   "source": [
    "tmp_route = 'CNSHK-MYTPP'\n",
    "%time tmp_data =train_data[train_data['TRANSPORT_TRACE'].str.contains(tmp_route)].reset_index(drop=True)\n"
   ]
  },
  {
   "cell_type": "code",
   "execution_count": null,
   "metadata": {
    "scrolled": true
   },
   "outputs": [],
   "source": [
    "%time tmp_label = tmp_data.groupby(by='loadingOrder').apply(label_cut_v2,tmp_route)"
   ]
  },
  {
   "cell_type": "code",
   "execution_count": 45,
   "metadata": {},
   "outputs": [
    {
     "data": {
      "text/plain": [
       "loadingOrder\n",
       "AA191175561416    2177261.0\n",
       "AU809825861449    2046873.0\n",
       "AX121943322046    2162391.0\n",
       "AZ165684400071    1910091.0\n",
       "BC974719697835          0.0\n",
       "                    ...    \n",
       "ZH151511414153    2082909.0\n",
       "ZO811542006703    2082909.0\n",
       "ZQ157208081736          0.0\n",
       "ZX741696557865    2067500.0\n",
       "ZY989876486292    2165596.0\n",
       "Length: 73, dtype: float64"
      ]
     },
     "execution_count": 45,
     "metadata": {},
     "output_type": "execute_result"
    }
   ],
   "source": [
    "# 查看打标情况\n",
    "tmp_label"
   ]
  },
  {
   "cell_type": "code",
   "execution_count": 16,
   "metadata": {},
   "outputs": [
    {
     "data": {
      "text/plain": [
       "loadingOrder\n",
       "BY789350322657          0.0\n",
       "GO496250630640    2360539.0\n",
       "HU508667240863          0.0\n",
       "HZ571673766531          0.0\n",
       "IC869966733240          0.0\n",
       "KU436448486469    2191390.0\n",
       "NZ438363836923    2454392.0\n",
       "QZ477152068239    2528349.0\n",
       "SM614397332616    2058393.0\n",
       "ZM490479048723    2485415.0\n",
       "dtype: float64"
      ]
     },
     "execution_count": 16,
     "metadata": {},
     "output_type": "execute_result"
    }
   ],
   "source": [
    "tmp_label"
   ]
  },
  {
   "cell_type": "code",
   "execution_count": 19,
   "metadata": {},
   "outputs": [
    {
     "data": {
      "text/plain": [
       "loadingOrder\n",
       "BY789350322657          0.0\n",
       "GO496250630640    2360539.0\n",
       "HU508667240863          0.0\n",
       "HZ571673766531          0.0\n",
       "IC869966733240          0.0\n",
       "KU436448486469    2191390.0\n",
       "NZ438363836923    2454392.0\n",
       "QZ477152068239    2528349.0\n",
       "SM614397332616    2058393.0\n",
       "ZM490479048723    2485415.0\n",
       "dtype: float64"
      ]
     },
     "execution_count": 19,
     "metadata": {},
     "output_type": "execute_result"
    }
   ],
   "source": [
    "tmp_label"
   ]
  },
  {
   "cell_type": "code",
   "execution_count": null,
   "metadata": {},
   "outputs": [],
   "source": []
  }
 ],
 "metadata": {
  "kernelspec": {
   "display_name": "Python 3",
   "language": "python",
   "name": "python3"
  },
  "language_info": {
   "codemirror_mode": {
    "name": "ipython",
    "version": 3
   },
   "file_extension": ".py",
   "mimetype": "text/x-python",
   "name": "python",
   "nbconvert_exporter": "python",
   "pygments_lexer": "ipython3",
   "version": "3.7.6"
  }
 },
 "nbformat": 4,
 "nbformat_minor": 4
}
