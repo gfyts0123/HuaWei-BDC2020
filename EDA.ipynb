{
 "cells": [
  {
   "cell_type": "code",
   "execution_count": null,
   "metadata": {},
   "outputs": [],
   "source": [
    "'''\n",
    "author: 叶文涛\n",
    "create time: 2020-6-16\n",
    "update time: 2020-7-24\n",
    "'''"
   ]
  },
  {
   "cell_type": "code",
   "execution_count": null,
   "metadata": {},
   "outputs": [],
   "source": [
    "import pandas as pd\n",
    "import numpy as np\n",
    "import os,gc,time,re\n",
    "import matplotlib.pyplot as plt\n",
    "import seaborn as sns\n",
    "import plotly.express as px\n",
    "import plotly.graph_objects as go\n",
    "from tqdm import tqdm"
   ]
  },
  {
   "cell_type": "code",
   "execution_count": null,
   "metadata": {},
   "outputs": [],
   "source": [
    "# %time train_data.to_pickle('data/train_data_deal.pkl')\n",
    "# %time train_data = pd.read_pickle('data/train_data_deal.pkl') #读取\n",
    "%time train_data = pd.read_pickle('data/clean_data1.pkl') #读取"
   ]
  },
  {
   "cell_type": "code",
   "execution_count": null,
   "metadata": {},
   "outputs": [],
   "source": [
    "# 载入运单事件，港口信息，测试数据\n",
    "loadingOrderEvent_df = pd.read_csv('data/loadingOrderEvent.csv',nrows=158341)\n",
    "port_df = pd.read_csv('data/port.csv')\n",
    "test_data = pd.read_csv('data/R2 ATest 0711.csv')"
   ]
  },
  {
   "cell_type": "code",
   "execution_count": null,
   "metadata": {},
   "outputs": [],
   "source": [
    "train_data"
   ]
  },
  {
   "cell_type": "code",
   "execution_count": null,
   "metadata": {},
   "outputs": [],
   "source": [
    "# 随机选取50个运单在地图上航行的样例\n",
    "'''\n",
    "从选取的样例中可以看到几种数据比较异常的情况：\n",
    "1 - gps记录的结尾不在港口 （但是途中经过了其他港口） NP465391960396 GG443276479484\n",
    "2 - 数据间隔极大 EN567191288956 HA533353890403\n",
    "3 - 数据漂移 CQ194759551382 下图虽然坐标漂移很大但是时间上似乎问题不大 HA533353890403\n",
    "4 - 行驶过程中速度或方向缺失(0或-1) P683337605409\n",
    "5 - 超短运单 LY549146723865\n",
    "6 - 起点不在港口 （也许不算脏？） YS759678876105\n",
    "'''\n",
    "# line_map_data = train_data[train_data.loadingOrder.isin(np.random.permutation(train_data.loadingOrder.unique())[:50])].reset_index(drop=True)\n",
    "line_map_data = train_data[train_data.loadingOrder.isin(['HR904399891733']).reset_index(drop=True)]\n",
    "fig = px.line_mapbox(line_map_data, lat='latitude',lon='longitude',\n",
    "                     hover_data=['loadingOrder','timestamp','speed','direction', 'TRANSPORT_TRACE', 'vesselStatus'],line_group='loadingOrder',color='loadingOrder')\n",
    "fig.update_layout(mapbox_style=\"stamen-terrain\")\n",
    "fig.show()\n",
    "\n"
   ]
  },
  {
   "cell_type": "code",
   "execution_count": null,
   "metadata": {},
   "outputs": [],
   "source": [
    "# 从有路由的运单中随机选取50个\n",
    "'''\n",
    "有路由的运单的异常数据比例并没有显著变好\n",
    "'''\n",
    "line_map_data = train_data[train_data.loadingOrder.isin(np.random.permutation(train_data[~train_data.TRANSPORT_TRACE.isnull()].loadingOrder.unique())[:50])].reset_index(drop=True)\n",
    "fig = px.line_mapbox(line_map_data,\\\n",
    "                     lat='latitude',lon='longitude',hover_data=['loadingOrder','timestamp','speed','direction'],line_group='loadingOrder',color='loadingOrder')\n",
    "fig.update_layout(mapbox_style=\"stamen-terrain\")\n",
    "fig.show()\n",
    "\n"
   ]
  },
  {
   "cell_type": "code",
   "execution_count": null,
   "metadata": {
    "code_folding": [
     0
    ]
   },
   "outputs": [],
   "source": [
    "#精确两点距离\n",
    "def Distance(Lat_A,Lng_A,Lat_B,Lng_B): \n",
    "    ra=6378.140 #赤道半径\n",
    "    rb=6356.755 #极半径 （km）\n",
    "    flatten=(ra-rb)/ra  #地球偏率\n",
    "    rad_lat_A=np.radians(Lat_A)\n",
    "    rad_lng_A=np.radians(Lng_A)\n",
    "    rad_lat_B=np.radians(Lat_B)\n",
    "    rad_lng_B=np.radians(Lng_B)\n",
    "    pA=np.arctan(rb/ra*np.tan(rad_lat_A))\n",
    "    pB=np.arctan(rb/ra*np.tan(rad_lat_B)) \n",
    "    xx=np.arccos(np.sin(pA)*np.sin(pB)+np.cos(pA)*np.cos(pB)*np.cos(rad_lng_A-rad_lng_B))\n",
    "    c1=(np.sin(xx)-xx)*(np.sin(pA)+np.sin(pB))**2/np.cos(xx/2)**2\n",
    "    c2=(np.sin(xx)+xx)*(np.sin(pA)-np.sin(pB))**2/np.sin(xx/2)**2\n",
    "    dr=flatten/8*(c1-c2)\n",
    "    distance=ra*(xx+dr)\n",
    "    return distance\n",
    "\n",
    "#计算欧式距离，即两点的距离，因为是地球球面模型，所以两点的距离即两点的弧长\n",
    "def distance(LatA,LatB,LonA,LonB):\n",
    "    EARTH_RADIUS = 6378.137 # 千米\n",
    "    \n",
    "    # 度数转化为弧度\n",
    "    def rad(d):\n",
    "        return d * np.pi/ 180.0\n",
    "    s=0\n",
    "    a = rad(LatA)-rad(LatB)\n",
    "    b = rad(LonA)-rad(LonB)\n",
    "    s= 2 * np.arcsin(np.sqrt(np.sin(a / 2)** 2  + np.cos(rad(LatA)) * np.cos(rad(LatB))* np.sin(b / 2)**2))\n",
    "    s=s* EARTH_RADIUS\n",
    "    #  保留两位小数\n",
    "    s = np.round(s * 100)/100\n",
    "    s = s * 1000 # 转换成米单位\n",
    "    return s\n",
    "\n",
    "# 构造group_df，加入秒差分和距离差分\n",
    "group_df = train_data.groupby('loadingOrder')\n",
    "group_df['diff_sec'] = group_df['timestamp'].apply(lambda x:x.diff(1).dt.total_seconds())\n",
    "group_df['diff_dist'] = distance(group_df['latitude'],group_df['longitude'],group_df['latitude'].shift(1),group_df['longitude'].shift(1))"
   ]
  },
  {
   "cell_type": "code",
   "execution_count": null,
   "metadata": {},
   "outputs": [],
   "source": [
    "# 单个运单数据量的分布折线图\n",
    "loadingOrder_counts = tmp_data.loadingOrder.value_counts(sort=False).sort_index()\n",
    "loadingOrder_counts.plot(kind='kde')"
   ]
  },
  {
   "cell_type": "code",
   "execution_count": null,
   "metadata": {},
   "outputs": [],
   "source": [
    "# 单个运单最大时间差分折线图，取0.9分位点\n",
    "loadingOrder_max_diff_sec = tmp_data.groupby(by='loadingOrder')['diff_sec'].agg('max')\n",
    "loadingOrder_max_diff_sec[loadingOrder_max_diff_sec<loadingOrder_max_diff_sec.quantile(0.9)].plot(kind='kde') # 分位数0.9去除极端值"
   ]
  },
  {
   "cell_type": "code",
   "execution_count": null,
   "metadata": {},
   "outputs": [],
   "source": [
    "# 单个运单最大距离差分折线图\n",
    "loadingOrder_max_diff_dist = tmp_data.groupby(by='loadingOrder')['diff_dist'].agg('max')\n",
    "loadingOrder_max_diff_dist.plot(kind='kde')"
   ]
  },
  {
   "cell_type": "code",
   "execution_count": null,
   "metadata": {},
   "outputs": [],
   "source": [
    "# 单个运单最大速度折线图\n",
    "loadingOrder_max_speed = tmp_data.groupby(by='loadingOrder')['speed'].agg('max')\n",
    "loadingOrder_max_speed.plot(kind='kde')"
   ]
  },
  {
   "cell_type": "code",
   "execution_count": null,
   "metadata": {},
   "outputs": [],
   "source": [
    "# 距离/速度（h）折线图\n",
    "(loadingOrder_max_diff_dist/(loadingOrder_max_diff_sec/3600)).plot(kind='kde')"
   ]
  },
  {
   "cell_type": "code",
   "execution_count": null,
   "metadata": {},
   "outputs": [],
   "source": [
    "fig = px.scatter(x=loadingOrder_max_diff_sec, y=loadingOrder_max_diff_dist)\n",
    "fig.show()"
   ]
  },
  {
   "cell_type": "code",
   "execution_count": null,
   "metadata": {},
   "outputs": [],
   "source": [
    "fig = px.scatter(x=(loadingOrder_max_speed*loadingOrder_max_diff_sec/3600), y=loadingOrder_max_diff_dist)\n",
    "fig.show()"
   ]
  },
  {
   "cell_type": "code",
   "execution_count": null,
   "metadata": {},
   "outputs": [],
   "source": [
    "fig = px.scatter(x=loadingOrder_max_speed, y=loadingOrder_max_diff_dist/loadingOrder_max_diff_sec*3600)\n",
    "fig.show()"
   ]
  },
  {
   "cell_type": "code",
   "execution_count": null,
   "metadata": {},
   "outputs": [],
   "source": [
    "fit_loadingOrders = loadingOrder_max_diff_dist.index[(loadingOrder_max_diff_sec<loadingOrder_max_diff_sec.quantile(0.9)) &\\\n",
    "                                                    (loadingOrder_max_diff_dist<loadingOrder_max_diff_dist.quantile(0.1))&\\\n",
    "                                                    (loadingOrder_counts>loadingOrder_counts.quantile(0.05))]\n",
    "print(fit_loadingOrders.shape)\n",
    "print(loadingOrder_max_diff_sec.quantile(0.9),loadingOrder_max_diff_dist.quantile(0.1),loadingOrder_counts.quantile(0.05))"
   ]
  },
  {
   "cell_type": "code",
   "execution_count": null,
   "metadata": {
    "scrolled": true
   },
   "outputs": [],
   "source": [
    "line_map_data = train_data[train_data.loadingOrder.isin(np.random.permutation(fit_loadingOrders)[:50])].reset_index(drop=True)"
   ]
  },
  {
   "cell_type": "code",
   "execution_count": null,
   "metadata": {
    "scrolled": true
   },
   "outputs": [],
   "source": [
    "\n",
    "# 港口在地图中的位置分布\n",
    "scatter_map_data = port_df\n",
    "# 缺失值情况判断\n",
    "'''\n",
    "港口数据中只有(TRANS_NODE_NAME,LONGITUDE,LATITUDE,COUNTRY)是没有缺失值的,对于小于国家的地区的描述,\n",
    "缺失情况(REGION<STATE<CITY),PORT_CODE是几乎全部缺失,TRANSPORT_NODE_ID是个int值,没什么用.\n",
    "'''\n",
    "port_df.isnull().sum()"
   ]
  },
  {
   "cell_type": "code",
   "execution_count": null,
   "metadata": {
    "scrolled": true
   },
   "outputs": [],
   "source": [
    "# 删掉city为空 以及 符合5位港口代码标准 的港口数据\n",
    "scatter_map_data = port_df\n",
    "# scatter_map_data = port_df[(~port_df.CITY.isnull())&(port_df.TRANS_NODE_NAME.str.match('[A-Z]{5}')&(port_df.TRANS_NODE_NAME.str.len()==5))]\n",
    "# scatter_map_data = port_df[port_df['TRANS_NODE_NAME'].isin(['MYTPP', 'CNYTN', 'CNSHK'])]\n",
    "# scatter_map_data = port_df[port_df['COUNTRY'] == 'Hungary']\n",
    "# scatter_map_data = port_df[port_df['TRANS_NODE_NAME'].isin(['SIKOP'])]\n",
    "# 港口map图.可以看到，有许多港口的位置十分集中接近。\n",
    "gc.collect()\n",
    "fig = px.scatter_mapbox(scatter_map_data,lat='LATITUDE',lon='LONGITUDE',hover_name='TRANS_NODE_NAME',hover_data=['TRANS_NODE_NAME','COUNTRY','CITY','LATITUDE','LONGITUDE'])\n",
    "fig.update_layout(mapbox_style=\"stamen-terrain\")\n",
    "fig.show()\n",
    "print(scatter_map_data.shape)"
   ]
  },
  {
   "cell_type": "code",
   "execution_count": null,
   "metadata": {
    "scrolled": true
   },
   "outputs": [],
   "source": [
    "# 测试数据的map图，较为干净\n",
    "line_map_data = test_data[test_data.loadingOrder.isin(np.random.permutation(test_data.loadingOrder.unique())[:10])].reset_index(drop=True)\n",
    "gc.collect()\n",
    "fig = px.line_mapbox(line_map_data,\\\n",
    "                     lat='latitude',lon='longitude',hover_data=['loadingOrder','timestamp','speed','direction','TRANSPORT_TRACE'],line_group='loadingOrder',color='loadingOrder')\n",
    "fig.update_layout(mapbox_style=\"stamen-terrain\")\n",
    "fig.show()\n",
    "print(line_map_data.shape)"
   ]
  },
  {
   "cell_type": "code",
   "execution_count": null,
   "metadata": {},
   "outputs": [],
   "source": [
    "set(test_data['TRANSPORT_TRACE'])"
   ]
  },
  {
   "cell_type": "code",
   "execution_count": null,
   "metadata": {},
   "outputs": [],
   "source": []
  }
 ],
 "metadata": {
  "kernelspec": {
   "display_name": "Python 3",
   "language": "python",
   "name": "python3"
  },
  "language_info": {
   "codemirror_mode": {
    "name": "ipython",
    "version": 3
   },
   "file_extension": ".py",
   "mimetype": "text/x-python",
   "name": "python",
   "nbconvert_exporter": "python",
   "pygments_lexer": "ipython3",
   "version": "3.7.6"
  }
 },
 "nbformat": 4,
 "nbformat_minor": 2
}